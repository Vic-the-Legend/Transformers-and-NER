{
  "cells": [
    {
      "cell_type": "markdown",
      "metadata": {
        "id": "view-in-github",
        "colab_type": "text"
      },
      "source": [
        "<a href=\"https://colab.research.google.com/github/Vic-the-Legend/Transformers-and-NER/blob/main/two_label_model.ipynb\" target=\"_parent\"><img src=\"https://colab.research.google.com/assets/colab-badge.svg\" alt=\"Open In Colab\"/></a>"
      ]
    },
    {
      "cell_type": "markdown",
      "metadata": {
        "id": "jWZru80PfAJl"
      },
      "source": [
        "# Model with two labels"
      ]
    },
    {
      "cell_type": "markdown",
      "metadata": {
        "id": "qh5gdRx_fAJo"
      },
      "source": [
        "## Import required libraries"
      ]
    },
    {
      "cell_type": "code",
      "execution_count": null,
      "metadata": {
        "id": "jqGhSXlFfAJo",
        "outputId": "45f73c62-7649-4098-bb17-b11ff5686c39"
      },
      "outputs": [
        {
          "name": "stderr",
          "output_type": "stream",
          "text": [
            "c:\\Users\\liang\\.conda\\envs\\finbert\\lib\\site-packages\\tqdm\\auto.py:21: TqdmWarning: IProgress not found. Please update jupyter and ipywidgets. See https://ipywidgets.readthedocs.io/en/stable/user_install.html\n",
            "  from .autonotebook import tqdm as notebook_tqdm\n"
          ]
        }
      ],
      "source": [
        "from datasets import load_dataset, Dataset\n",
        "from transformers import DistilBertTokenizer, DistilBertForSequenceClassification\n",
        "from transformers import Trainer, TrainingArguments, pipeline\n",
        "import numpy as np\n",
        "import pandas as pd\n",
        "from matplotlib import pyplot as plt\n",
        "from sklearn.model_selection import train_test_split\n",
        "from sklearn.metrics import accuracy_score, f1_score\n",
        "from sklearn.metrics import ConfusionMatrixDisplay, confusion_matrix\n",
        "import gc\n",
        "import torch\n",
        "from scipy import special"
      ]
    },
    {
      "cell_type": "markdown",
      "metadata": {
        "id": "CF2GBaeFfAJp"
      },
      "source": [
        "## Allowing different number of labels:"
      ]
    },
    {
      "cell_type": "markdown",
      "metadata": {
        "id": "JkQDJ5gDfAJq"
      },
      "source": [
        "Do the following when fine-tuning and we can work with 2 labels"
      ]
    },
    {
      "cell_type": "code",
      "execution_count": null,
      "metadata": {
        "id": "wdhgMJCFfAJq"
      },
      "outputs": [],
      "source": [
        "# Specify number of labels when training\n",
        "num_labels = 2\n",
        "\n",
        "# Change the number of labels\n",
        "model = DistilBertForSequenceClassification.from_pretrained('distilbert-base-uncased', num_labels = num_labels).to('cuda')"
      ]
    },
    {
      "cell_type": "markdown",
      "metadata": {
        "id": "con0-JGPfAJq"
      },
      "source": [
        "## Generate Sample model for two labels:"
      ]
    },
    {
      "cell_type": "code",
      "execution_count": null,
      "metadata": {
        "id": "Tgz57-X7fAJq",
        "outputId": "46ddf995-e747-4373-ac51-a1ee9f9350ec"
      },
      "outputs": [
        {
          "data": {
            "text/html": [
              "<div>\n",
              "<style scoped>\n",
              "    .dataframe tbody tr th:only-of-type {\n",
              "        vertical-align: middle;\n",
              "    }\n",
              "\n",
              "    .dataframe tbody tr th {\n",
              "        vertical-align: top;\n",
              "    }\n",
              "\n",
              "    .dataframe thead th {\n",
              "        text-align: right;\n",
              "    }\n",
              "</style>\n",
              "<table border=\"1\" class=\"dataframe\">\n",
              "  <thead>\n",
              "    <tr style=\"text-align: right;\">\n",
              "      <th></th>\n",
              "      <th>sentence</th>\n",
              "      <th>label</th>\n",
              "    </tr>\n",
              "  </thead>\n",
              "  <tbody>\n",
              "    <tr>\n",
              "      <th>0</th>\n",
              "      <td>According to Gran , the company has no plans t...</td>\n",
              "      <td>1</td>\n",
              "    </tr>\n",
              "    <tr>\n",
              "      <th>1</th>\n",
              "      <td>Technopolis plans to develop in stages an area...</td>\n",
              "      <td>1</td>\n",
              "    </tr>\n",
              "    <tr>\n",
              "      <th>2</th>\n",
              "      <td>The international electronic industry company ...</td>\n",
              "      <td>0</td>\n",
              "    </tr>\n",
              "    <tr>\n",
              "      <th>3</th>\n",
              "      <td>With the new production plant the company woul...</td>\n",
              "      <td>2</td>\n",
              "    </tr>\n",
              "    <tr>\n",
              "      <th>4</th>\n",
              "      <td>According to the company 's updated strategy f...</td>\n",
              "      <td>2</td>\n",
              "    </tr>\n",
              "    <tr>\n",
              "      <th>...</th>\n",
              "      <td>...</td>\n",
              "      <td>...</td>\n",
              "    </tr>\n",
              "    <tr>\n",
              "      <th>4841</th>\n",
              "      <td>LONDON MarketWatch -- Share prices ended lower...</td>\n",
              "      <td>0</td>\n",
              "    </tr>\n",
              "    <tr>\n",
              "      <th>4842</th>\n",
              "      <td>Rinkuskiai 's beer sales fell by 6.5 per cent ...</td>\n",
              "      <td>1</td>\n",
              "    </tr>\n",
              "    <tr>\n",
              "      <th>4843</th>\n",
              "      <td>Operating profit fell to EUR 35.4 mn from EUR ...</td>\n",
              "      <td>0</td>\n",
              "    </tr>\n",
              "    <tr>\n",
              "      <th>4844</th>\n",
              "      <td>Net sales of the Paper segment decreased to EU...</td>\n",
              "      <td>0</td>\n",
              "    </tr>\n",
              "    <tr>\n",
              "      <th>4845</th>\n",
              "      <td>Sales in Finland decreased by 10.5 % in Januar...</td>\n",
              "      <td>0</td>\n",
              "    </tr>\n",
              "  </tbody>\n",
              "</table>\n",
              "<p>4846 rows × 2 columns</p>\n",
              "</div>"
            ],
            "text/plain": [
              "                                               sentence  label\n",
              "0     According to Gran , the company has no plans t...      1\n",
              "1     Technopolis plans to develop in stages an area...      1\n",
              "2     The international electronic industry company ...      0\n",
              "3     With the new production plant the company woul...      2\n",
              "4     According to the company 's updated strategy f...      2\n",
              "...                                                 ...    ...\n",
              "4841  LONDON MarketWatch -- Share prices ended lower...      0\n",
              "4842  Rinkuskiai 's beer sales fell by 6.5 per cent ...      1\n",
              "4843  Operating profit fell to EUR 35.4 mn from EUR ...      0\n",
              "4844  Net sales of the Paper segment decreased to EU...      0\n",
              "4845  Sales in Finland decreased by 10.5 % in Januar...      0\n",
              "\n",
              "[4846 rows x 2 columns]"
            ]
          },
          "execution_count": 2,
          "metadata": {},
          "output_type": "execute_result"
        }
      ],
      "source": [
        "from datasets import load_dataset\n",
        "phrases = load_dataset('financial_phrasebank', 'sentences_50agree')\n",
        "data = phrases['train']\n",
        "data.set_format(\"pandas\")\n",
        "data = data[:]\n",
        "data"
      ]
    },
    {
      "cell_type": "markdown",
      "metadata": {
        "id": "8RVLXre-fAJr"
      },
      "source": [
        "### Separating data into negative and non-negative"
      ]
    },
    {
      "cell_type": "code",
      "execution_count": null,
      "metadata": {
        "id": "e_1pMmhLfAJr",
        "outputId": "03a80bd8-fa84-4e6b-db33-33b74c8f8cf7"
      },
      "outputs": [
        {
          "data": {
            "text/plain": [
              "<Axes: xlabel='label'>"
            ]
          },
          "execution_count": 3,
          "metadata": {},
          "output_type": "execute_result"
        },
        {
          "data": {
            "image/png": "[encoded data removed]",
            "text/plain": [
              "<Figure size 640x480 with 1 Axes>"
            ]
          },
          "metadata": {},
          "output_type": "display_data"
        }
      ],
      "source": [
        "data[\"label\"] = np.where(data['label'] >= 1, 1, 0)\n",
        "data[\"label\"].value_counts().plot(kind = 'bar')"
      ]
    },
    {
      "cell_type": "markdown",
      "metadata": {
        "id": "Bkw74c5NfAJr"
      },
      "source": [
        "### Training the model"
      ]
    },
    {
      "cell_type": "code",
      "execution_count": null,
      "metadata": {
        "id": "0biSwOmRfAJr",
        "outputId": "21dcfe46-f6a3-46f7-8e0c-705a4d365c88"
      },
      "outputs": [
        {
          "name": "stdout",
          "output_type": "stream",
          "text": [
            "(3391, 2) (970, 2) (485, 2)\n"
          ]
        }
      ],
      "source": [
        "df_train, df_test = train_test_split(data, shuffle = True, test_size=0.2, stratify=data['label'])\n",
        "df_train, df_val = train_test_split(df_train, test_size=0.125, stratify=df_train['label'])\n",
        "print(df_train.shape, df_test.shape, df_val.shape)"
      ]
    },
    {
      "cell_type": "code",
      "execution_count": null,
      "metadata": {
        "id": "xphfAU0mfAJs"
      },
      "outputs": [],
      "source": [
        "tokenizer = DistilBertTokenizer.from_pretrained('distilbert-base-uncased')"
      ]
    },
    {
      "cell_type": "code",
      "execution_count": null,
      "metadata": {
        "id": "eo_pz-qPfAJs",
        "outputId": "d79eaecb-10cf-480a-b995-3082739b7963"
      },
      "outputs": [
        {
          "name": "stderr",
          "output_type": "stream",
          "text": [
            "Map: 100%|██████████| 3391/3391 [00:01<00:00, 1896.15 examples/s]\n",
            "Map: 100%|██████████| 485/485 [00:00<00:00, 2169.37 examples/s]\n",
            "Map: 100%|██████████| 970/970 [00:00<00:00, 2246.92 examples/s]\n"
          ]
        }
      ],
      "source": [
        "dataset_train_DistilBERT = Dataset.from_pandas(df_train)\n",
        "dataset_val_DistilBERT = Dataset.from_pandas(df_val)\n",
        "dataset_test_DistilBERT = Dataset.from_pandas(df_test)\n",
        "\n",
        "dataset_train_DistilBERT = dataset_train_DistilBERT.map(lambda e: tokenizer(e['sentence'], truncation=True, padding='max_length', max_length=128), batched=True)\n",
        "dataset_val_DistilBERT = dataset_val_DistilBERT.map(lambda e: tokenizer(e['sentence'], truncation=True, padding='max_length', max_length=128), batched=True)\n",
        "dataset_test_DistilBERT = dataset_test_DistilBERT.map(lambda e: tokenizer(e['sentence'], truncation=True, padding='max_length' , max_length=128), batched=True)\n",
        "\n",
        "dataset_train_DistilBERT.set_format(type='torch', columns=['input_ids', 'attention_mask', 'label'])\n",
        "dataset_val_DistilBERT.set_format(type='torch', columns=['input_ids', 'attention_mask', 'label'])\n",
        "dataset_test_DistilBERT.set_format(type='torch', columns=['input_ids', 'attention_mask', 'label'])"
      ]
    },
    {
      "cell_type": "code",
      "execution_count": null,
      "metadata": {
        "id": "2Qv5p3Q9fAJs",
        "outputId": "e08f66eb-1faf-4f63-fa8c-08a50c016074"
      },
      "outputs": [
        {
          "data": {
            "text/plain": [
              "30"
            ]
          },
          "execution_count": 7,
          "metadata": {},
          "output_type": "execute_result"
        }
      ],
      "source": [
        "torch.cuda.empty_cache()\n",
        "gc.collect()"
      ]
    },
    {
      "cell_type": "markdown",
      "metadata": {
        "id": "pMtJ1to-fAJs"
      },
      "source": [
        "Important step:"
      ]
    },
    {
      "cell_type": "code",
      "execution_count": null,
      "metadata": {
        "id": "KhqWdw2tfAJs",
        "outputId": "6ef6b234-3427-48d2-f237-b73b421db970"
      },
      "outputs": [
        {
          "name": "stderr",
          "output_type": "stream",
          "text": [
            "Some weights of DistilBertForSequenceClassification were not initialized from the model checkpoint at distilbert-base-uncased and are newly initialized: ['pre_classifier.weight', 'pre_classifier.bias', 'classifier.weight', 'classifier.bias']\n",
            "You should probably TRAIN this model on a down-stream task to be able to use it for predictions and inference.\n"
          ]
        }
      ],
      "source": [
        "num_labels = len(data[\"label\"].unique())\n",
        "model = DistilBertForSequenceClassification.from_pretrained('distilbert-base-uncased', num_labels = num_labels).to('cuda')"
      ]
    },
    {
      "cell_type": "code",
      "execution_count": null,
      "metadata": {
        "id": "8Hruk2fFfAJs",
        "outputId": "fbdab797-d461-41ac-e49d-84d3f20e3ac4"
      },
      "outputs": [
        {
          "name": "stderr",
          "output_type": "stream",
          "text": [
            " 20%|█▉        | 105/530 [00:30<01:47,  3.96it/s]"
          ]
        },
        {
          "name": "stdout",
          "output_type": "stream",
          "text": [
            "{'loss': 0.2542, 'learning_rate': 1.6037735849056607e-05, 'epoch': 0.99}\n"
          ]
        },
        {
          "name": "stderr",
          "output_type": "stream",
          "text": [
            "                                                 \n",
            " 20%|██        | 106/530 [00:31<01:48,  3.89it/s]"
          ]
        },
        {
          "name": "stdout",
          "output_type": "stream",
          "text": [
            "{'eval_loss': 0.13089308142662048, 'eval_accuracy': 0.9443298969072165, 'eval_f1': 0.9423646369987716, 'eval_runtime': 1.2607, 'eval_samples_per_second': 384.699, 'eval_steps_per_second': 12.691, 'epoch': 1.0}\n"
          ]
        },
        {
          "name": "stderr",
          "output_type": "stream",
          "text": [
            " 40%|███▉      | 210/530 [00:57<01:21,  3.91it/s]"
          ]
        },
        {
          "name": "stdout",
          "output_type": "stream",
          "text": [
            "{'loss': 0.115, 'learning_rate': 1.2075471698113209e-05, 'epoch': 1.98}\n"
          ]
        },
        {
          "name": "stderr",
          "output_type": "stream",
          "text": [
            "                                                 \n",
            " 40%|████      | 212/530 [00:59<01:20,  3.96it/s]"
          ]
        },
        {
          "name": "stdout",
          "output_type": "stream",
          "text": [
            "{'eval_loss': 0.123526930809021, 'eval_accuracy': 0.9567010309278351, 'eval_f1': 0.9571523865532597, 'eval_runtime': 1.2452, 'eval_samples_per_second': 389.507, 'eval_steps_per_second': 12.85, 'epoch': 2.0}\n"
          ]
        },
        {
          "name": "stderr",
          "output_type": "stream",
          "text": [
            " 59%|█████▉    | 315/530 [01:27<01:03,  3.38it/s]"
          ]
        },
        {
          "name": "stdout",
          "output_type": "stream",
          "text": [
            "{'loss': 0.0604, 'learning_rate': 8.113207547169812e-06, 'epoch': 2.97}\n"
          ]
        },
        {
          "name": "stderr",
          "output_type": "stream",
          "text": [
            "                                                 \n",
            " 60%|██████    | 318/530 [01:29<01:01,  3.47it/s]"
          ]
        },
        {
          "name": "stdout",
          "output_type": "stream",
          "text": [
            "{'eval_loss': 0.13153932988643646, 'eval_accuracy': 0.9628865979381444, 'eval_f1': 0.9623336283281618, 'eval_runtime': 1.6141, 'eval_samples_per_second': 300.474, 'eval_steps_per_second': 9.913, 'epoch': 3.0}\n"
          ]
        },
        {
          "name": "stderr",
          "output_type": "stream",
          "text": [
            " 79%|███████▉  | 420/530 [02:01<00:37,  2.90it/s]"
          ]
        },
        {
          "name": "stdout",
          "output_type": "stream",
          "text": [
            "{'loss': 0.0262, 'learning_rate': 4.150943396226416e-06, 'epoch': 3.96}\n"
          ]
        },
        {
          "name": "stderr",
          "output_type": "stream",
          "text": [
            "                                                 \n",
            " 80%|████████  | 424/530 [02:04<00:35,  3.01it/s]"
          ]
        },
        {
          "name": "stdout",
          "output_type": "stream",
          "text": [
            "{'eval_loss': 0.14903795719146729, 'eval_accuracy': 0.954639175257732, 'eval_f1': 0.955263565470954, 'eval_runtime': 1.6006, 'eval_samples_per_second': 303.009, 'eval_steps_per_second': 9.996, 'epoch': 4.0}\n"
          ]
        },
        {
          "name": "stderr",
          "output_type": "stream",
          "text": [
            " 99%|█████████▉| 525/530 [02:38<00:01,  3.10it/s]"
          ]
        },
        {
          "name": "stdout",
          "output_type": "stream",
          "text": [
            "{'loss': 0.0166, 'learning_rate': 1.886792452830189e-07, 'epoch': 4.95}\n"
          ]
        },
        {
          "name": "stderr",
          "output_type": "stream",
          "text": [
            "                                                 \n",
            "100%|██████████| 530/530 [02:42<00:00,  3.27it/s]"
          ]
        },
        {
          "name": "stdout",
          "output_type": "stream",
          "text": [
            "{'eval_loss': 0.15571780502796173, 'eval_accuracy': 0.954639175257732, 'eval_f1': 0.9549574937579918, 'eval_runtime': 1.6409, 'eval_samples_per_second': 295.562, 'eval_steps_per_second': 9.751, 'epoch': 5.0}\n",
            "{'train_runtime': 162.0139, 'train_samples_per_second': 104.651, 'train_steps_per_second': 3.271, 'train_loss': 0.09380716200707094, 'epoch': 5.0}\n"
          ]
        },
        {
          "name": "stderr",
          "output_type": "stream",
          "text": [
            "\n"
          ]
        },
        {
          "data": {
            "text/plain": [
              "TrainOutput(global_step=530, training_loss=0.09380716200707094, metrics={'train_runtime': 162.0139, 'train_samples_per_second': 104.651, 'train_steps_per_second': 3.271, 'train_loss': 0.09380716200707094, 'epoch': 5.0})"
            ]
          },
          "execution_count": 9,
          "metadata": {},
          "output_type": "execute_result"
        }
      ],
      "source": [
        "def compute_metrics(pred):\n",
        "    labels = pred.label_ids\n",
        "    preds = pred.predictions.argmax(-1)\n",
        "    f1 = f1_score(labels, preds, average=\"weighted\")\n",
        "    acc = accuracy_score(labels, preds)\n",
        "    return {\"accuracy\": acc, \"f1\": f1}\n",
        "\n",
        "batch_size = 32\n",
        "logging_steps = df_train.shape[0] // batch_size\n",
        "\n",
        "\n",
        "args_DistilBERT = TrainingArguments(\n",
        "        output_dir = 'temp/',\n",
        "        num_train_epochs=5,\n",
        "        learning_rate=2e-5,\n",
        "        warmup_steps = 0,\n",
        "        per_device_train_batch_size=batch_size,\n",
        "        per_device_eval_batch_size=batch_size,\n",
        "        #weight_decay=0.01,\n",
        "        evaluation_strategy = 'epoch',\n",
        "        logging_steps=logging_steps\n",
        "        #save_strategy = 'epoch',\n",
        "        #load_best_model_at_end=True,\n",
        "        #metric_for_best_model='accuracy',\n",
        ")\n",
        "\n",
        "trainer_DistilBERT = Trainer(\n",
        "        model=model,\n",
        "        args=args_DistilBERT,\n",
        "        train_dataset=dataset_train_DistilBERT,         # training dataset\n",
        "        eval_dataset=dataset_val_DistilBERT,            # evaluation dataset\n",
        "        compute_metrics=compute_metrics\n",
        ")\n",
        "\n",
        "trainer_DistilBERT.train()"
      ]
    },
    {
      "cell_type": "code",
      "execution_count": null,
      "metadata": {
        "id": "4b8z9kwBfAJs",
        "outputId": "a79ac493-fca1-497b-c187-7fc41f797e86"
      },
      "outputs": [
        {
          "name": "stderr",
          "output_type": "stream",
          "text": [
            "100%|██████████| 16/16 [00:01<00:00, 11.98it/s]\n"
          ]
        },
        {
          "data": {
            "text/plain": [
              "{'eval_loss': 0.15571780502796173,\n",
              " 'eval_accuracy': 0.954639175257732,\n",
              " 'eval_f1': 0.9549574937579918,\n",
              " 'eval_runtime': 1.6454,\n",
              " 'eval_samples_per_second': 294.755,\n",
              " 'eval_steps_per_second': 9.724,\n",
              " 'epoch': 5.0}"
            ]
          },
          "execution_count": 10,
          "metadata": {},
          "output_type": "execute_result"
        }
      ],
      "source": [
        "trainer_DistilBERT.evaluate()"
      ]
    },
    {
      "cell_type": "code",
      "execution_count": null,
      "metadata": {
        "id": "5sD2v0NFfAJt"
      },
      "outputs": [],
      "source": [
        "def plot_confusion_matrix(y_pred, y_true, labels):\n",
        "    cm = confusion_matrix(y_true, y_pred, normalize=\"true\")\n",
        "    _, ax = plt.subplots(figsize=(6, 6))\n",
        "    disp = ConfusionMatrixDisplay(confusion_matrix=cm, display_labels=labels)\n",
        "    disp.plot(cmap=\"Blues\", values_format=\".2f\", ax=ax, colorbar=False)\n",
        "    plt.title(\"Normalized confusion matrix\")\n",
        "    plt.show()"
      ]
    },
    {
      "cell_type": "code",
      "execution_count": null,
      "metadata": {
        "id": "c2H2VnaBfAJt",
        "outputId": "f6881a77-51a3-4d6d-a754-477a9527f53d"
      },
      "outputs": [
        {
          "name": "stderr",
          "output_type": "stream",
          "text": [
            "100%|██████████| 31/31 [00:02<00:00, 13.25it/s]\n"
          ]
        }
      ],
      "source": [
        "prediction = trainer_DistilBERT.predict(dataset_test_DistilBERT)"
      ]
    },
    {
      "cell_type": "code",
      "execution_count": null,
      "metadata": {
        "id": "rGOUIw_VfAJt",
        "outputId": "8f041898-292a-4a00-bce7-b3cf6316800b"
      },
      "outputs": [
        {
          "data": {
            "image/png": "[encoded data removed]",
            "text/plain": [
              "<Figure size 600x600 with 1 Axes>"
            ]
          },
          "metadata": {},
          "output_type": "display_data"
        }
      ],
      "source": [
        "plot_confusion_matrix(np.argmax(prediction.predictions, axis=1), df_test['label'], [\"Neg\", \"Non-Neg\"])"
      ]
    },
    {
      "cell_type": "markdown",
      "metadata": {
        "id": "-8E0pRdYfAJt"
      },
      "source": [
        "### Save model:"
      ]
    },
    {
      "cell_type": "code",
      "execution_count": null,
      "metadata": {
        "id": "TSue2I5UfAJt",
        "outputId": "c95675a8-c7f6-4b89-c0ec-177834109f95"
      },
      "outputs": [
        {
          "data": {
            "text/plain": [
              "('two_label/tokenizer_config.json',\n",
              " 'two_label/special_tokens_map.json',\n",
              " 'two_label/vocab.txt',\n",
              " 'two_label/added_tokens.json')"
            ]
          },
          "execution_count": 15,
          "metadata": {},
          "output_type": "execute_result"
        }
      ],
      "source": [
        "save_directory = \"two_label/\"\n",
        "model.save_pretrained(save_directory)\n",
        "tokenizer.save_pretrained(save_directory)"
      ]
    },
    {
      "cell_type": "markdown",
      "metadata": {
        "id": "SJky4KPBfAJt"
      },
      "source": [
        "### Test saved model:"
      ]
    },
    {
      "cell_type": "code",
      "execution_count": null,
      "metadata": {
        "id": "T7azdEYBfAJt"
      },
      "outputs": [],
      "source": [
        "# Directory of saved tuned model on financial phrase data\n",
        "save_directory = \"two_label/\"\n",
        "model = DistilBertForSequenceClassification.from_pretrained(save_directory)\n",
        "tokenizer = DistilBertTokenizer.from_pretrained(save_directory)\n",
        "trained_model = pipeline(\"sentiment-analysis\", model=model, tokenizer=tokenizer) # top_k = None allows for all probabilities to show"
      ]
    },
    {
      "cell_type": "code",
      "execution_count": null,
      "metadata": {
        "id": "gxJ_BsD1fAJu"
      },
      "outputs": [],
      "source": [
        "predictions = trained_model.predict(df_test[\"sentence\"].tolist())"
      ]
    },
    {
      "cell_type": "code",
      "execution_count": null,
      "metadata": {
        "id": "sWGtyKp9fAJu",
        "outputId": "b7c042e8-c61e-4d67-afc1-73eb27ca8a7f"
      },
      "outputs": [
        {
          "data": {
            "image/png": "[encoded data removed]",
            "text/plain": [
              "<Figure size 600x600 with 1 Axes>"
            ]
          },
          "metadata": {},
          "output_type": "display_data"
        }
      ],
      "source": [
        "indices = [int(pred['label'][-1]) for pred in predictions]\n",
        "plot_confusion_matrix(indices, df_test['label'], [\"Neg\", \"Non-Neg\"])"
      ]
    },
    {
      "cell_type": "markdown",
      "metadata": {
        "id": "A6jlCpXIfAJu"
      },
      "source": [
        "We can see the results are the same, the resulting model could be used as a two-label classifier"
      ]
    }
  ],
  "metadata": {
    "kernelspec": {
      "display_name": "finbert",
      "language": "python",
      "name": "python3"
    },
    "language_info": {
      "codemirror_mode": {
        "name": "ipython",
        "version": 3
      },
      "file_extension": ".py",
      "mimetype": "text/x-python",
      "name": "python",
      "nbconvert_exporter": "python",
      "pygments_lexer": "ipython3",
      "version": "3.10.13"
    },
    "orig_nbformat": 4,
    "colab": {
      "provenance": [],
      "include_colab_link": true
    }
  },
  "nbformat": 4,
  "nbformat_minor": 0
}